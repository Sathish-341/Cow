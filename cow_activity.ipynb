{
  "cells": [
    {
      "cell_type": "markdown",
      "source": [
        "**Importing the required libraries**"
      ],
      "metadata": {
        "id": "sDMekwOv4-hM"
      },
      "id": "sDMekwOv4-hM"
    },
    {
      "cell_type": "code",
      "execution_count": null,
      "metadata": {
        "id": "807519a4"
      },
      "outputs": [],
      "source": [
        "#importing the common libraries\n",
        "import numpy as np\n",
        "import pandas as pd\n",
        "import matplotlib.pyplot as plt\n",
        "import seaborn as sns\n",
        "%matplotlib inline\n",
        "import warnings\n",
        "warnings.filterwarnings('ignore')"
      ],
      "id": "807519a4"
    },
    {
      "cell_type": "markdown",
      "source": [
        "**Mounting the Google Drive**"
      ],
      "metadata": {
        "id": "PdDAC3HF5OQc"
      },
      "id": "PdDAC3HF5OQc"
    },
    {
      "cell_type": "markdown",
      "source": [],
      "metadata": {
        "id": "HS0lkU0c5LE9"
      },
      "id": "HS0lkU0c5LE9"
    },
    {
      "cell_type": "code",
      "execution_count": null,
      "metadata": {
        "id": "_NORbysLKKOB"
      },
      "outputs": [],
      "source": [
        "from google.colab import drive\n",
        "drive.mount('/content/drive/',force_remount = True)"
      ],
      "id": "_NORbysLKKOB"
    },
    {
      "cell_type": "markdown",
      "source": [
        "**Reading the data from the drive**"
      ],
      "metadata": {
        "id": "sm8XPdzL5UCw"
      },
      "id": "sm8XPdzL5UCw"
    },
    {
      "cell_type": "code",
      "execution_count": null,
      "metadata": {
        "id": "AFGw34mSKLny"
      },
      "outputs": [],
      "source": [
        "eating= pd.read_csv('/content/drive/MyDrive/Cow_prediction/E1_train.csv')\n",
        "drinking= pd.read_csv('/content/drive/MyDrive/Cow_prediction/D2_train.csv')\n",
        "walking= pd.read_csv('/content/drive/MyDrive/Cow_prediction/W3_train.csv')\n",
        "standing= pd.read_csv('/content/drive/MyDrive/Cow_prediction/S4_train.csv')\n",
        "lying= pd.read_csv('/content/drive/MyDrive/Cow_prediction/L5_train.csv')\n",
        "ruminating_standing= pd.read_csv('/content/drive/MyDrive/Cow_prediction/RS6_train.csv')\n",
        "ruminating_lying= pd.read_csv('/content/drive/MyDrive/Cow_prediction/RL7_train.csv')\n",
        "grooming= pd.read_csv('/content/drive/MyDrive/Cow_prediction/G8_train.csv')\n",
        "idle= pd.read_csv('/content/drive/MyDrive/Cow_prediction/I9_train.csv')"
      ],
      "id": "AFGw34mSKLny"
    },
    {
      "cell_type": "markdown",
      "source": [
        "**concatinating all files in to single dataframe**"
      ],
      "metadata": {
        "id": "7CyV0N0d5gAk"
      },
      "id": "7CyV0N0d5gAk"
    },
    {
      "cell_type": "code",
      "execution_count": null,
      "metadata": {
        "id": "fa54265f"
      },
      "outputs": [],
      "source": [
        "# concatenating all the csv files\n",
        "df = pd.concat([drinking, eating, walking, grooming, idle, lying, ruminating_lying, ruminating_standing, standing])"
      ],
      "id": "fa54265f"
    },
    {
      "cell_type": "code",
      "execution_count": null,
      "metadata": {
        "id": "3e3fb9eb"
      },
      "outputs": [],
      "source": [
        "#viewing the concatenated dataset\n",
        "df"
      ],
      "id": "3e3fb9eb"
    },
    {
      "cell_type": "code",
      "execution_count": null,
      "metadata": {
        "id": "0ea9276e"
      },
      "outputs": [],
      "source": [
        "df.shape"
      ],
      "id": "0ea9276e"
    },
    {
      "cell_type": "code",
      "execution_count": null,
      "metadata": {
        "id": "060251c2"
      },
      "outputs": [],
      "source": [
        "#checking if there are any categorical features\n",
        "df.info()"
      ],
      "id": "060251c2"
    },
    {
      "cell_type": "markdown",
      "source": [
        "###EDA Techniques"
      ],
      "metadata": {
        "id": "3Kw5rxqP6dW6"
      },
      "id": "3Kw5rxqP6dW6"
    },
    {
      "cell_type": "code",
      "execution_count": null,
      "metadata": {
        "id": "a7a4c68a"
      },
      "outputs": [],
      "source": [
        "#checking for null values\n",
        "df.isnull().sum()"
      ],
      "id": "a7a4c68a"
    },
    {
      "cell_type": "markdown",
      "source": [
        "**pandas-profiling generates profile reports from a pandas DataFrame**"
      ],
      "metadata": {
        "id": "0AqToHw05oE_"
      },
      "id": "0AqToHw05oE_"
    },
    {
      "cell_type": "code",
      "execution_count": null,
      "metadata": {
        "id": "R8D5Wr4mnM63"
      },
      "outputs": [],
      "source": [
        "!pip install -U pandas_profiling\n"
      ],
      "id": "R8D5Wr4mnM63"
    },
    {
      "cell_type": "markdown",
      "source": [
        "**Generating the profile report**"
      ],
      "metadata": {
        "id": "nlr4MpxV6C6M"
      },
      "id": "nlr4MpxV6C6M"
    },
    {
      "cell_type": "code",
      "execution_count": null,
      "metadata": {
        "id": "F8iwErYrpC5V"
      },
      "outputs": [],
      "source": [
        "from pandas_profiling import ProfileReport \n",
        "ProfileReport(df,minimal= True)"
      ],
      "id": "F8iwErYrpC5V"
    },
    {
      "cell_type": "markdown",
      "source": [
        "**Generates profile reports from a pandas DataFrame** "
      ],
      "metadata": {
        "id": "04amnyG96Jkg"
      },
      "id": "04amnyG96Jkg"
    },
    {
      "cell_type": "code",
      "execution_count": null,
      "metadata": {
        "id": "lBac3I8b9iil"
      },
      "outputs": [],
      "source": [
        "!pip install AutoViz\n",
        "!pip install xlrd"
      ],
      "id": "lBac3I8b9iil"
    },
    {
      "cell_type": "markdown",
      "source": [],
      "metadata": {
        "id": "6YWWFgD26SUp"
      },
      "id": "6YWWFgD26SUp"
    },
    {
      "cell_type": "code",
      "execution_count": null,
      "metadata": {
        "id": "GvI-DFq-9kHe"
      },
      "outputs": [],
      "source": [
        "#importing Autoviz class\n",
        "from autoviz.AutoViz_Class import AutoViz_Class\n",
        "\n",
        "#Instantiate the AutoViz class\n",
        "AV = AutoViz_Class()"
      ],
      "id": "GvI-DFq-9kHe"
    },
    {
      "cell_type": "code",
      "execution_count": null,
      "metadata": {
        "id": "4gbDqbO89rSG"
      },
      "outputs": [],
      "source": [
        "df.to_csv('file1.csv')"
      ],
      "id": "4gbDqbO89rSG"
    },
    {
      "cell_type": "code",
      "execution_count": null,
      "metadata": {
        "id": "3Y6X7--M9wtC"
      },
      "outputs": [],
      "source": [
        "dftc = AV.AutoViz('file1.csv')"
      ],
      "id": "3Y6X7--M9wtC"
    },
    {
      "cell_type": "code",
      "source": [
        "!pip install dataprep"
      ],
      "metadata": {
        "id": "6MVND-7i3CJQ"
      },
      "id": "6MVND-7i3CJQ",
      "execution_count": null,
      "outputs": []
    },
    {
      "cell_type": "code",
      "source": [
        "cow=df.sample(frac=0.1)"
      ],
      "metadata": {
        "id": "tE25GF9OMKAH"
      },
      "id": "tE25GF9OMKAH",
      "execution_count": null,
      "outputs": []
    },
    {
      "cell_type": "code",
      "source": [
        "from dataprep.eda import plot\n",
        "\n",
        "plot(cow)"
      ],
      "metadata": {
        "id": "UfjiiPaW3H1Z"
      },
      "id": "UfjiiPaW3H1Z",
      "execution_count": null,
      "outputs": []
    },
    {
      "cell_type": "code",
      "source": [
        "plot(cow, 'label')"
      ],
      "metadata": {
        "id": "VlGMZWe43gxm"
      },
      "id": "VlGMZWe43gxm",
      "execution_count": null,
      "outputs": []
    },
    {
      "cell_type": "code",
      "source": [
        "from dataprep.eda import plot_correlation"
      ],
      "metadata": {
        "id": "x9p2H-1o3k-q"
      },
      "id": "x9p2H-1o3k-q",
      "execution_count": null,
      "outputs": []
    },
    {
      "cell_type": "code",
      "source": [
        "# plots the most correlated columns to column \"label\"\n",
        "plot_correlation(cow,'label')"
      ],
      "metadata": {
        "id": "nPbWfoGb3mCu"
      },
      "id": "nPbWfoGb3mCu",
      "execution_count": null,
      "outputs": []
    },
    {
      "cell_type": "code",
      "source": [],
      "metadata": {
        "id": "ZLS1a_ovOm0c"
      },
      "id": "ZLS1a_ovOm0c",
      "execution_count": null,
      "outputs": []
    },
    {
      "cell_type": "code",
      "source": [
        "from dataprep.eda import create_report\n",
        "create_report(cow)"
      ],
      "metadata": {
        "id": "fWuXUuAq36Q3"
      },
      "id": "fWuXUuAq36Q3",
      "execution_count": null,
      "outputs": []
    },
    {
      "cell_type": "markdown",
      "metadata": {
        "id": "204d3612"
      },
      "source": [
        "We notice that there no null values here"
      ],
      "id": "204d3612"
    },
    {
      "cell_type": "markdown",
      "source": [
        "**describe() analyzes numeric as well as to object series or series of a DataFrame**"
      ],
      "metadata": {
        "id": "fHG7dYeW-EJi"
      },
      "id": "fHG7dYeW-EJi"
    },
    {
      "cell_type": "code",
      "execution_count": null,
      "metadata": {
        "id": "cdc792a1"
      },
      "outputs": [],
      "source": [
        "df.describe().T"
      ],
      "id": "cdc792a1"
    },
    {
      "cell_type": "code",
      "execution_count": null,
      "metadata": {
        "id": "6cb86677"
      },
      "outputs": [],
      "source": [
        "#checking the correlation between all the features\n",
        "plt.figure(figsize=(10,10))\n",
        "cor = df.corr()\n",
        "sns.heatmap(cor,annot = True, cmap=\"coolwarm\", fmt = '.0%' )\n",
        "plt.show()"
      ],
      "id": "6cb86677"
    },
    {
      "cell_type": "code",
      "execution_count": null,
      "metadata": {
        "id": "835af52f"
      },
      "outputs": [],
      "source": [
        "#understanding our target variable\n",
        "sns.countplot(df['label'])"
      ],
      "id": "835af52f"
    },
    {
      "cell_type": "code",
      "execution_count": null,
      "metadata": {
        "id": "cca5b37e"
      },
      "outputs": [],
      "source": [
        "#checking for outliers using boxplot\n",
        "fig = plt.figure(figsize = (6,6))\n",
        "\n",
        "#calling the boxplot\n",
        "sns.boxplot(data = df, linewidth = 1) #linewidth -- space between each inforamation\n",
        "\n",
        "plt.xticks(rotation = 'vertical')\n",
        "plt.show()"
      ],
      "id": "cca5b37e"
    },
    {
      "cell_type": "code",
      "execution_count": null,
      "metadata": {
        "id": "781326bb"
      },
      "outputs": [],
      "source": [
        "#checking the outliers for acc_x using boxplot\n",
        "fig = plt.figure(figsize = (6,6))\n",
        "\n",
        "#calling the boxplot\n",
        "sns.boxplot(data =df,y = \"acc_x\")\n",
        "plt.xticks(rotation = \"vertical\")\n",
        "plt.show()"
      ],
      "id": "781326bb"
    },
    {
      "cell_type": "markdown",
      "source": [],
      "metadata": {
        "id": "5rwUobtXgpw6"
      },
      "id": "5rwUobtXgpw6"
    },
    {
      "cell_type": "code",
      "execution_count": null,
      "metadata": {
        "id": "76916b08"
      },
      "outputs": [],
      "source": [
        "#defining a variable named column_name n giving it all the column names expect time and label\n",
        "col_name = ['acc_x', 'acc_y', 'acc_z', 'gyr_x', 'gyr_y', 'gyr_z', 'mag_x','mag_y', 'mag_z']"
      ],
      "id": "76916b08"
    },
    {
      "cell_type": "code",
      "execution_count": null,
      "metadata": {
        "id": "b752aa20"
      },
      "outputs": [],
      "source": [
        "#seperating the x and y variables\n",
        "x = df.drop('label', axis = 1) #independent features\n",
        "y = df['label'] #dependent features"
      ],
      "id": "b752aa20"
    },
    {
      "cell_type": "code",
      "execution_count": null,
      "metadata": {
        "id": "40f0a921"
      },
      "outputs": [],
      "source": [
        "#viewing the independent features\n",
        "x.head(2)"
      ],
      "id": "40f0a921"
    },
    {
      "cell_type": "code",
      "execution_count": null,
      "metadata": {
        "id": "c3cee279"
      },
      "outputs": [],
      "source": [
        "#viewing the dependent features\n",
        "y.head(2)"
      ],
      "id": "c3cee279"
    },
    {
      "cell_type": "markdown",
      "metadata": {
        "id": "66aab5c8"
      },
      "source": [
        "## checking for outliers"
      ],
      "id": "66aab5c8"
    },
    {
      "cell_type": "markdown",
      "metadata": {
        "id": "4f312670"
      },
      "source": [
        "#a function to plot the outliers for the given column name\n",
        "def identify_outliers(df, column_name):\n",
        "    fig = plt.figure(figsize=(6,8))\n",
        "    sns.boxplot(data = x, y = column_name)\n",
        "plt.show()"
      ],
      "id": "4f312670"
    },
    {
      "cell_type": "markdown",
      "metadata": {
        "id": "8ccc3a4e"
      },
      "source": [
        "italicised text identifying outliers"
      ],
      "id": "8ccc3a4e"
    },
    {
      "cell_type": "code",
      "execution_count": null,
      "metadata": {
        "id": "9174ffd2"
      },
      "outputs": [],
      "source": [
        "# Using a for loop inside a function to get the box plots(seaborn) of all the columns\n",
        "def identify_outliers(df, col_name):\n",
        "    for i in col_name:\n",
        "        fig = plt.figure(figsize=(6,8))\n",
        "        sns.boxplot(data = x, y = i)\n",
        "plt.show()"
      ],
      "id": "9174ffd2"
    },
    {
      "cell_type": "code",
      "execution_count": null,
      "metadata": {
        "id": "af3545ee"
      },
      "outputs": [],
      "source": [
        "identify_outliers(x, col_name)"
      ],
      "id": "af3545ee"
    },
    {
      "cell_type": "markdown",
      "metadata": {
        "id": "d6e1f9ee"
      },
      "source": [
        "Replacing outlier with median"
      ],
      "id": "d6e1f9ee"
    },
    {
      "cell_type": "markdown",
      "metadata": {
        "id": "61a39483"
      },
      "source": [
        "*creating funciton to replace outlier values with the median value*\n"
      ],
      "id": "61a39483"
    },
    {
      "cell_type": "code",
      "execution_count": null,
      "metadata": {
        "id": "efdfb015"
      },
      "outputs": [],
      "source": [
        "def replace_outlier(x, col_name):\n",
        "    for i in col_name:\n",
        "        print('col_name : ',i)\n",
        "        Q1 = np.percentile(x[i], 25)\n",
        "        Q2 = np.percentile(x[i], 50)\n",
        "        Q3 = np.percentile(x[i], 75)\n",
        "        IQR = Q3 - Q1\n",
        "        print('Q1 =',Q1,'Q2 = ',Q2,'Q3 = ',Q3)\n",
        "\n",
        "        upper_val = Q3 + (1.5 * IQR)\n",
        "        print('upper', upper_val)\n",
        "        lower_val = Q1 - (1.5 * IQR)\n",
        "        print('lower', lower_val)\n",
        "\n",
        "        x.loc[x[i] > upper_val, i] = np.median(x[i])\n",
        "        x.loc[x[i] < lower_val, i] = np.median(x[i])\n",
        "        \n",
        "        fig = plt.figure(figsize = (6,8))\n",
        "        sns.boxplot(data = x,y = i)\n",
        "        plt.xticks(rotation = 'horizontal')\n",
        "        plt.show()"
      ],
      "id": "efdfb015"
    },
    {
      "cell_type": "code",
      "execution_count": null,
      "metadata": {
        "id": "5285fc64"
      },
      "outputs": [],
      "source": [
        "replace_outlier(x, col_name)"
      ],
      "id": "5285fc64"
    },
    {
      "cell_type": "markdown",
      "metadata": {
        "id": "30e926a7"
      },
      "source": [
        "looking for outliers after imputing with median"
      ],
      "id": "30e926a7"
    },
    {
      "cell_type": "code",
      "execution_count": null,
      "metadata": {
        "id": "0862f585"
      },
      "outputs": [],
      "source": [
        "identify_outliers(x, col_name)"
      ],
      "id": "0862f585"
    },
    {
      "cell_type": "markdown",
      "source": [
        "**Making sub sets from the main dataframe**"
      ],
      "metadata": {
        "id": "xQFZpgur_Eh4"
      },
      "id": "xQFZpgur_Eh4"
    },
    {
      "cell_type": "code",
      "source": [
        "# Sample datasets\n",
        "df1=df.sample(500000)\n",
        "df2= df.sample(250000)\n",
        "df3=df.sample(180000)"
      ],
      "metadata": {
        "id": "gApBR0jKlq3M"
      },
      "id": "gApBR0jKlq3M",
      "execution_count": null,
      "outputs": []
    },
    {
      "cell_type": "code",
      "source": [
        "#seperating the x and y variables\n",
        "x1 = df1.drop('label', axis = 1) \n",
        "y1 = df1['label'] "
      ],
      "metadata": {
        "id": "_usSmXcAn43Y"
      },
      "id": "_usSmXcAn43Y",
      "execution_count": null,
      "outputs": []
    },
    {
      "cell_type": "code",
      "source": [
        "#seperating the x and y variables\n",
        "x2 = df2.drop('label', axis = 1) \n",
        "y2 = df2['label'] "
      ],
      "metadata": {
        "id": "3OOBuhL1pCBz"
      },
      "id": "3OOBuhL1pCBz",
      "execution_count": null,
      "outputs": []
    },
    {
      "cell_type": "code",
      "source": [
        "#seperating the x and y variables\n",
        "x3 = df3.drop('label', axis = 1) \n",
        "y3 = df3['label'] "
      ],
      "metadata": {
        "id": "nQa4gJ0XpC3z"
      },
      "id": "nQa4gJ0XpC3z",
      "execution_count": null,
      "outputs": []
    },
    {
      "cell_type": "code",
      "source": [
        "df1.shape"
      ],
      "metadata": {
        "id": "Qw8khZfgl1Mu"
      },
      "id": "Qw8khZfgl1Mu",
      "execution_count": null,
      "outputs": []
    },
    {
      "cell_type": "markdown",
      "metadata": {
        "id": "8b2fb23f"
      },
      "source": [
        "**Normalization using minmaxscaler**"
      ],
      "id": "8b2fb23f"
    },
    {
      "cell_type": "code",
      "execution_count": null,
      "metadata": {
        "id": "219081e6"
      },
      "outputs": [],
      "source": [
        "from sklearn.preprocessing import MinMaxScaler"
      ],
      "id": "219081e6"
    },
    {
      "cell_type": "code",
      "execution_count": null,
      "metadata": {
        "id": "7d0fff56"
      },
      "outputs": [],
      "source": [
        "scaling = MinMaxScaler()"
      ],
      "id": "7d0fff56"
    },
    {
      "cell_type": "code",
      "execution_count": null,
      "metadata": {
        "id": "91e4cfdb"
      },
      "outputs": [],
      "source": [
        "scaling.fit_transform(x)"
      ],
      "id": "91e4cfdb"
    },
    {
      "cell_type": "code",
      "source": [
        "scaling.fit_transform(x1)"
      ],
      "metadata": {
        "id": "87WHTUNGpfC2"
      },
      "id": "87WHTUNGpfC2",
      "execution_count": null,
      "outputs": []
    },
    {
      "cell_type": "code",
      "source": [
        "scaling.fit_transform(x2)"
      ],
      "metadata": {
        "id": "h1iw1dMVpknO"
      },
      "id": "h1iw1dMVpknO",
      "execution_count": null,
      "outputs": []
    },
    {
      "cell_type": "code",
      "source": [
        "scaling.fit_transform(x3)"
      ],
      "metadata": {
        "id": "UnDy1ervpmmT"
      },
      "id": "UnDy1ervpmmT",
      "execution_count": null,
      "outputs": []
    },
    {
      "cell_type": "code",
      "execution_count": null,
      "metadata": {
        "id": "509f3162"
      },
      "outputs": [],
      "source": [
        "x_nor= pd.DataFrame(scaling.fit_transform(x),columns = x.columns)"
      ],
      "id": "509f3162"
    },
    {
      "cell_type": "code",
      "source": [
        "x1_nor= pd.DataFrame(scaling.fit_transform(x1),columns = x1.columns)"
      ],
      "metadata": {
        "id": "HzYwzWWmpukH"
      },
      "id": "HzYwzWWmpukH",
      "execution_count": null,
      "outputs": []
    },
    {
      "cell_type": "code",
      "source": [
        "x2_nor= pd.DataFrame(scaling.fit_transform(x2),columns = x2.columns)"
      ],
      "metadata": {
        "id": "RFuL5WyBpxqD"
      },
      "id": "RFuL5WyBpxqD",
      "execution_count": null,
      "outputs": []
    },
    {
      "cell_type": "code",
      "source": [
        "x3_nor= pd.DataFrame(scaling.fit_transform(x3),columns = x3.columns)"
      ],
      "metadata": {
        "id": "J5TOyaKYp3pz"
      },
      "id": "J5TOyaKYp3pz",
      "execution_count": null,
      "outputs": []
    },
    {
      "cell_type": "code",
      "execution_count": null,
      "metadata": {
        "id": "d21d8da2"
      },
      "outputs": [],
      "source": [
        "#select k best\n",
        "from sklearn.feature_selection import SelectKBest\n",
        "from sklearn.feature_selection import chi2"
      ],
      "id": "d21d8da2"
    },
    {
      "cell_type": "markdown",
      "source": [
        "###Feature selection using KBest"
      ],
      "metadata": {
        "id": "6uEPy-0O_eE_"
      },
      "id": "6uEPy-0O_eE_"
    },
    {
      "cell_type": "code",
      "execution_count": null,
      "metadata": {
        "id": "aa372620"
      },
      "outputs": [],
      "source": [
        "#ranking the features\n",
        "select_k_best_rank_features = SelectKBest(score_func = chi2, k = 5)\n",
        "k_best_features = select_k_best_rank_features.fit(x1_nor,y1)\n",
        "\n",
        "df_k_scores = pd.DataFrame(k_best_features.scores_, columns = ['score'])\n",
        "dfcolumns = pd.DataFrame(x_nor.columns)\n",
        "\n",
        "k_best_feature_rank = pd.concat([dfcolumns, df_k_scores], axis = 1)\n",
        "\n",
        "k_best_feature_rank.columns = ('features', 'k_score')\n",
        "print(k_best_feature_rank.nlargest(7, 'k_score'))"
      ],
      "id": "aa372620"
    },
    {
      "cell_type": "code",
      "source": [
        "x1.columns"
      ],
      "metadata": {
        "id": "46OTZr8uegG4"
      },
      "id": "46OTZr8uegG4",
      "execution_count": null,
      "outputs": []
    },
    {
      "cell_type": "code",
      "source": [
        "x1_nor=x1_nor.drop(['gyr_x', 'gyr_y', 'gyr_z'],axis=1)"
      ],
      "metadata": {
        "id": "QlDtuz-Cer1Y"
      },
      "id": "QlDtuz-Cer1Y",
      "execution_count": null,
      "outputs": []
    },
    {
      "cell_type": "code",
      "source": [
        "x2_nor=x2_nor.drop(['gyr_x', 'gyr_y', 'gyr_z'],axis=1)"
      ],
      "metadata": {
        "id": "OMHbiXiMfcYr"
      },
      "id": "OMHbiXiMfcYr",
      "execution_count": null,
      "outputs": []
    },
    {
      "cell_type": "code",
      "source": [
        "x3_nor=x3_nor.drop(['gyr_x', 'gyr_y', 'gyr_z'],axis=1)"
      ],
      "metadata": {
        "id": "Epi3nSCPfgau"
      },
      "id": "Epi3nSCPfgau",
      "execution_count": null,
      "outputs": []
    },
    {
      "cell_type": "code",
      "source": [
        "x1_nor.columns"
      ],
      "metadata": {
        "id": "9bF4P7gdsTf-"
      },
      "id": "9bF4P7gdsTf-",
      "execution_count": null,
      "outputs": []
    },
    {
      "cell_type": "markdown",
      "source": [
        "###Splitting the data in to train & test"
      ],
      "metadata": {
        "id": "fmXP_9PX_lom"
      },
      "id": "fmXP_9PX_lom"
    },
    {
      "cell_type": "code",
      "execution_count": null,
      "metadata": {
        "id": "cSKuVSMwgyQL"
      },
      "outputs": [],
      "source": [
        "from sklearn.model_selection import train_test_split as tts\n",
        "x1_train,x1_test,y1_train,y1_test = tts(x1_nor,y1,test_size=0.2,random_state=10,stratify=y1)"
      ],
      "id": "cSKuVSMwgyQL"
    },
    {
      "cell_type": "markdown",
      "source": [
        "**Mutual information between two random variables is a non-negative value, which measures the dependency between the variables**"
      ],
      "metadata": {
        "id": "5Vna8DZe_0v8"
      },
      "id": "5Vna8DZe_0v8"
    },
    {
      "cell_type": "code",
      "source": [
        "from sklearn.feature_selection import mutual_info_classif\n",
        "mutual_info = mutual_info_classif(x1_train, y1_train)\n",
        "mutual_info"
      ],
      "metadata": {
        "id": "iAsP8BdNEmw9"
      },
      "id": "iAsP8BdNEmw9",
      "execution_count": null,
      "outputs": []
    },
    {
      "cell_type": "code",
      "source": [
        "mutual_info = pd.Series(mutual_info)\n",
        "mutual_info.index = x1_train.columns\n",
        "mutual_info.sort_values(ascending=False)"
      ],
      "metadata": {
        "id": "s5sgTBpIE_4I"
      },
      "id": "s5sgTBpIE_4I",
      "execution_count": null,
      "outputs": []
    },
    {
      "cell_type": "markdown",
      "source": [
        "**Plotting MI score**"
      ],
      "metadata": {
        "id": "YvhqTC-kAywy"
      },
      "id": "YvhqTC-kAywy"
    },
    {
      "cell_type": "code",
      "source": [
        "mutual_info.sort_values(ascending=False).plot.bar(figsize=(20, 8))"
      ],
      "metadata": {
        "id": "bLUYIBl3FLEs"
      },
      "id": "bLUYIBl3FLEs",
      "execution_count": null,
      "outputs": []
    },
    {
      "cell_type": "markdown",
      "source": [
        "###Decision Tree algorithm with SMOTE Oversampling & Undersampling"
      ],
      "metadata": {
        "id": "SBoqMSaqA8AY"
      },
      "id": "SBoqMSaqA8AY"
    },
    {
      "cell_type": "code",
      "source": [
        "print(\"Before OverSampling, counts of label '1': {}\".format(sum(y1_train == 1)))\n",
        "print(\"Before OverSampling, counts of label '0': {} \\n\".format(sum(y1_train == 0)))\n",
        "  \n",
        "# import SMOTE module from imblearn library\n",
        "# pip install imblearn (if you don't have imblearn in your system)\n",
        "from imblearn.over_sampling import SMOTE\n",
        "sm = SMOTE(random_state = 2)\n",
        "X_train_res, y_train_res = sm.fit_resample(x1_train, y1_train.ravel())\n",
        "  \n",
        "print('After OverSampling, the shape of train_X: {}'.format(X_train_res.shape))\n",
        "print('After OverSampling, the shape of train_y: {} \\n'.format(y_train_res.shape))\n",
        "  \n",
        "print(\"After OverSampling, counts of label '1': {}\".format(sum(y_train_res == 1)))\n",
        "print(\"After OverSampling, counts of label '0': {}\".format(sum(y_train_res == 0)))"
      ],
      "metadata": {
        "id": "jZ9lqMuuM0pW"
      },
      "id": "jZ9lqMuuM0pW",
      "execution_count": null,
      "outputs": []
    },
    {
      "cell_type": "code",
      "execution_count": null,
      "metadata": {
        "id": "svdfGH-XcNfH"
      },
      "outputs": [],
      "source": [
        "from sklearn.tree import DecisionTreeClassifier\n",
        "from sklearn.metrics import accuracy_score\n",
        "from sklearn.metrics import classification_report"
      ],
      "id": "svdfGH-XcNfH"
    },
    {
      "cell_type": "code",
      "source": [
        "# Create Decision Tree classifier object\n",
        "clf = DecisionTreeClassifier()\n",
        "# Train Decision Tree Classifier\n",
        "clf = clf.fit(X_train_res, y_train_res)\n",
        "#Predict the response for test dataset\n",
        "y_pred = clf.predict(x1_test)"
      ],
      "metadata": {
        "id": "UaYxD5BxUlbG"
      },
      "id": "UaYxD5BxUlbG",
      "execution_count": null,
      "outputs": []
    },
    {
      "cell_type": "code",
      "source": [
        "# print classification report\n",
        "print(classification_report(y1_test, y_pred))"
      ],
      "metadata": {
        "id": "QPcgGPL0mmqq"
      },
      "id": "QPcgGPL0mmqq",
      "execution_count": null,
      "outputs": []
    },
    {
      "cell_type": "code",
      "source": [
        "print(\"Before Undersampling, counts of label '1': {}\".format(sum(y1_train == 1)))\n",
        "print(\"Before Undersampling, counts of label '0': {} \\n\".format(sum(y1_train == 0)))\n",
        "  \n",
        "# apply near miss\n",
        "from imblearn.under_sampling import NearMiss\n",
        "nr = NearMiss()\n",
        "  \n",
        "X_train_miss, y_train_miss = nr.fit_resample(x1_train, y1_train.ravel())\n",
        "  \n",
        "print('After Undersampling, the shape of train_X: {}'.format(X_train_miss.shape))\n",
        "print('After Undersampling, the shape of train_y: {} \\n'.format(y_train_miss.shape))\n",
        "  \n",
        "print(\"After Undersampling, counts of label '1': {}\".format(sum(y_train_miss == 1)))\n",
        "print(\"After Undersampling, counts of label '0': {}\".format(sum(y_train_miss == 0)))"
      ],
      "metadata": {
        "id": "fnLXxR7-WM3r"
      },
      "id": "fnLXxR7-WM3r",
      "execution_count": null,
      "outputs": []
    },
    {
      "cell_type": "code",
      "source": [
        "# Create Decision Tree classifier object\n",
        "clf = DecisionTreeClassifier()\n",
        "# Train Decision Tree Classifier\n",
        "clf = clf.fit(X_train_miss, y_train_miss)\n",
        "#Predict the response for test dataset\n",
        "y1_pred = clf.predict(x1_test)"
      ],
      "metadata": {
        "id": "jeE60ia_nbNv"
      },
      "id": "jeE60ia_nbNv",
      "execution_count": null,
      "outputs": []
    },
    {
      "cell_type": "code",
      "source": [
        "print(classification_report(y1_test, y1_pred))"
      ],
      "metadata": {
        "id": "PCe9bczHnoI9"
      },
      "id": "PCe9bczHnoI9",
      "execution_count": null,
      "outputs": []
    },
    {
      "cell_type": "markdown",
      "source": [
        "### Random forest Classifier "
      ],
      "metadata": {
        "id": "3i978z0dFEuP"
      },
      "id": "3i978z0dFEuP"
    },
    {
      "cell_type": "code",
      "source": [
        "x2_train,x2_test,y2_train,y2_test=tts(x2_nor,y2,test_size=0.2,random_state=10)"
      ],
      "metadata": {
        "id": "K2_gxFj3GDpa"
      },
      "id": "K2_gxFj3GDpa",
      "execution_count": null,
      "outputs": []
    },
    {
      "cell_type": "code",
      "execution_count": null,
      "metadata": {
        "id": "iu3ZSeNeOC82"
      },
      "outputs": [],
      "source": [
        "from sklearn.ensemble import RandomForestClassifier  \n",
        "classifier= RandomForestClassifier(n_estimators= 10, criterion=\"entropy\")  \n",
        "classifier.fit(x2_train, y2_train)  "
      ],
      "id": "iu3ZSeNeOC82"
    },
    {
      "cell_type": "code",
      "execution_count": null,
      "metadata": {
        "id": "se77LIrQOMAF"
      },
      "outputs": [],
      "source": [
        "#Predicting the test set result  \n",
        "y2_pred= classifier.predict(x2_test)  "
      ],
      "id": "se77LIrQOMAF"
    },
    {
      "cell_type": "code",
      "execution_count": null,
      "metadata": {
        "id": "wDRzJxbROM16"
      },
      "outputs": [],
      "source": [
        "print(classification_report(y2_test, y2_pred))"
      ],
      "id": "wDRzJxbROM16"
    },
    {
      "cell_type": "markdown",
      "source": [
        "### K nearest Neighbours Classifier "
      ],
      "metadata": {
        "id": "y3osTiyDFOVl"
      },
      "id": "y3osTiyDFOVl"
    },
    {
      "cell_type": "code",
      "source": [
        "x3_train,x3_test,y3_train,y3_test=tts(x3_nor,y3,test_size=0.2,random_state=10)"
      ],
      "metadata": {
        "id": "XfaJTTeg1253"
      },
      "id": "XfaJTTeg1253",
      "execution_count": null,
      "outputs": []
    },
    {
      "cell_type": "code",
      "source": [
        "# Import module for KNN\n",
        "from sklearn.neighbors import KNeighborsClassifier\n",
        "# Create KNN instance\n",
        "# n_neighbors -> argument identifies the amount of neighbors used to ID classification\n",
        "knn = KNeighborsClassifier(n_neighbors=3)\n",
        "# Fit (i.e. traing) the model\n",
        "knn.fit(x3_train, y3_train)"
      ],
      "metadata": {
        "id": "reVA_CjvSGSj"
      },
      "id": "reVA_CjvSGSj",
      "execution_count": null,
      "outputs": []
    },
    {
      "cell_type": "code",
      "source": [
        "pred = knn.predict(x3_test)\n",
        "# Review the predictions\n",
        "pred"
      ],
      "metadata": {
        "id": "e0_Td8Y4089e"
      },
      "id": "e0_Td8Y4089e",
      "execution_count": null,
      "outputs": []
    },
    {
      "cell_type": "code",
      "source": [
        "print(classification_report(y3_test, pred))"
      ],
      "metadata": {
        "id": "gvOmxOR_1KVQ"
      },
      "id": "gvOmxOR_1KVQ",
      "execution_count": null,
      "outputs": []
    },
    {
      "cell_type": "code",
      "source": [],
      "metadata": {
        "id": "Mu3IdaZ5TTv6"
      },
      "id": "Mu3IdaZ5TTv6",
      "execution_count": null,
      "outputs": []
    },
    {
      "cell_type": "markdown",
      "source": [
        "### Support Vector Machine or SVM "
      ],
      "metadata": {
        "id": "1myUjltAFd4-"
      },
      "id": "1myUjltAFd4-"
    },
    {
      "cell_type": "code",
      "execution_count": null,
      "metadata": {
        "id": "0gm4DXvHOs3Z"
      },
      "outputs": [],
      "source": [
        "from sklearn.svm import SVC # \"Support vector classifier\"  \n",
        "classifier = SVC(kernel='linear', random_state=0)  \n",
        "classifier.fit(x2_train, y2_train)  "
      ],
      "id": "0gm4DXvHOs3Z"
    },
    {
      "cell_type": "code",
      "execution_count": null,
      "metadata": {
        "id": "e9MjxebXOzEL"
      },
      "outputs": [],
      "source": [
        "#Predicting the test set result  \n",
        "ypr= classifier.predict(x2_test)  "
      ],
      "id": "e9MjxebXOzEL"
    },
    {
      "cell_type": "code",
      "source": [
        "print(classification_report(y2_test, ypr))"
      ],
      "metadata": {
        "id": "Jdmba2WsS_Qc"
      },
      "id": "Jdmba2WsS_Qc",
      "execution_count": null,
      "outputs": []
    },
    {
      "cell_type": "markdown",
      "source": [
        "###XGBoost Classifier"
      ],
      "metadata": {
        "id": "4xFjB-JiGBoa"
      },
      "id": "4xFjB-JiGBoa"
    },
    {
      "cell_type": "code",
      "source": [
        "from xgboost import XGBClassifier\n",
        "from sklearn.model_selection import RepeatedStratifiedKFold\n",
        "from sklearn.model_selection import GridSearchCV\n",
        "model=XGBClassifier()\n",
        "grid = {'gamma':[2],'reg_lambda':[4],'eta':[.01,.03,.04,.05]}\n",
        "cv = RepeatedStratifiedKFold(n_splits=10, n_repeats=3, random_state=1)\n",
        "grid_search = GridSearchCV(estimator=model, param_grid=grid, n_jobs=-1, cv=cv, scoring='accuracy')\n",
        "grid_result = grid_search.fit(x2_nor, y2)\n",
        "print(\"Best: %f using %s\" % (grid_result.best_score_, grid_result.best_params_))\n"
      ],
      "metadata": {
        "id": "LZ3m4Jb_RC0Y"
      },
      "id": "LZ3m4Jb_RC0Y",
      "execution_count": null,
      "outputs": []
    },
    {
      "cell_type": "code",
      "source": [
        "#  https://xgboost.readthedocs.io/en/stable/parameter.html\n"
      ],
      "metadata": {
        "id": "Qc63nOFdRSeL"
      },
      "id": "Qc63nOFdRSeL",
      "execution_count": null,
      "outputs": []
    },
    {
      "cell_type": "code",
      "source": [
        "# Parameter selection\n",
        "from xgboost import XGBClassifier\n",
        "XGBc = XGBClassifier(eta=0.04,gamma=2,reg_lambda=4)# Parameter Selcted \n",
        "XGBc.fit(x2_train,y2_train)\n",
        "y11_pred=XGBc.predict(x2_test)\n",
        "y22_pred1=XGBc.predict(x2_train)\n"
      ],
      "metadata": {
        "id": "hjR5yWecRKUE"
      },
      "id": "hjR5yWecRKUE",
      "execution_count": null,
      "outputs": []
    },
    {
      "cell_type": "code",
      "source": [
        "print(classification_report(y2_test, y11_pred))"
      ],
      "metadata": {
        "id": "HJUfmm6e3RAq"
      },
      "id": "HJUfmm6e3RAq",
      "execution_count": null,
      "outputs": []
    }
  ],
  "metadata": {
    "colab": {
      "provenance": [],
      "collapsed_sections": [
        "66aab5c8"
      ],
      "toc_visible": true
    },
    "kernelspec": {
      "display_name": "Python 3 (ipykernel)",
      "language": "python",
      "name": "python3"
    },
    "language_info": {
      "codemirror_mode": {
        "name": "ipython",
        "version": 3
      },
      "file_extension": ".py",
      "mimetype": "text/x-python",
      "name": "python",
      "nbconvert_exporter": "python",
      "pygments_lexer": "ipython3",
      "version": "3.9.12"
    }
  },
  "nbformat": 4,
  "nbformat_minor": 5
}